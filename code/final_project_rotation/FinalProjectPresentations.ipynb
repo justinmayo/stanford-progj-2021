{
 "cells": [
  {
   "cell_type": "code",
   "execution_count": 67,
   "id": "biblical-replication",
   "metadata": {},
   "outputs": [],
   "source": [
    "import random\n",
    "from IPython.display import display, HTML"
   ]
  },
  {
   "cell_type": "code",
   "execution_count": 87,
   "id": "usual-nowhere",
   "metadata": {},
   "outputs": [],
   "source": [
    "# Add students to presenters\n",
    "presenters = []\n",
    "random.shuffle(presenters)"
   ]
  },
  {
   "cell_type": "code",
   "execution_count": 88,
   "id": "incident-republican",
   "metadata": {},
   "outputs": [
    {
     "data": {
      "text/html": [
       "<h2>And the order is.....?</h2><ul><li><strong>Angela/Rehana</strong></li><li><strong>Anna</strong></li><li><strong>Cade/Katherine</strong></li><li><strong>Eric</strong></li><li><strong>Michael</strong></li><li><strong>Qian</strong></li><li><strong>Daniel</strong></li></ul>"
      ],
      "text/plain": [
       "<IPython.core.display.HTML object>"
      ]
     },
     "metadata": {},
     "output_type": "display_data"
    }
   ],
   "source": [
    "    chart = '<h2>And the order is.....?</h2><ul>'\n",
    "for presenter in presenters:\n",
    "    chart += f'<li><strong>{presenter}</strong></li>'\n",
    "chart += '</ul>'\n",
    "display(HTML(chart))"
   ]
  },
  {
   "cell_type": "code",
   "execution_count": null,
   "id": "coupled-forty",
   "metadata": {},
   "outputs": [],
   "source": []
  },
  {
   "cell_type": "code",
   "execution_count": null,
   "id": "seven-hamilton",
   "metadata": {},
   "outputs": [],
   "source": []
  }
 ],
 "metadata": {
  "kernelspec": {
   "display_name": "Python 3",
   "language": "python",
   "name": "python3"
  },
  "language_info": {
   "codemirror_mode": {
    "name": "ipython",
    "version": 3
   },
   "file_extension": ".py",
   "mimetype": "text/x-python",
   "name": "python",
   "nbconvert_exporter": "python",
   "pygments_lexer": "ipython3",
   "version": "3.7.8"
  }
 },
 "nbformat": 4,
 "nbformat_minor": 5
}
